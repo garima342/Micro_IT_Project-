{
 "cells": [
  {
   "cell_type": "code",
   "execution_count": 12,
   "id": "a7bb514b-889d-4e51-832c-36e4dd0afbf5",
   "metadata": {},
   "outputs": [
    {
     "name": "stdout",
     "output_type": "stream",
     "text": [
      "Accuracy: 0.67\n",
      "\n",
      "Classification Report:\n",
      "               precision    recall  f1-score   support\n",
      "\n",
      "    negative       0.89      0.44      0.59        36\n",
      "     neutral       0.51      0.90      0.65        30\n",
      "    positive       0.83      0.71      0.76        34\n",
      "\n",
      "    accuracy                           0.67       100\n",
      "   macro avg       0.74      0.68      0.67       100\n",
      "weighted avg       0.75      0.67      0.67       100\n",
      "\n"
     ]
    }
   ],
   "source": [
    "import pandas as pd\n",
    "from sklearn.model_selection import train_test_split\n",
    "from sklearn.feature_extraction.text import TfidfVectorizer\n",
    "from sklearn.linear_model import LogisticRegression\n",
    "from sklearn.metrics import classification_report, accuracy_score\n",
    "import string\n",
    "import re\n",
    "\n",
    "# Load the dataset\n",
    "df = pd.read_csv(r\"D:\\Python\\SentimentAnalysisProject\\sentiment_analysis.csv\")  # Update path if needed\n",
    "\n",
    "# Clean the text\n",
    "def preprocess(text):\n",
    "    if isinstance(text, str):\n",
    "        text = text.lower()\n",
    "        text = re.sub(r\"http\\S+\", \"\", text)\n",
    "        text = re.sub(r\"@\\w+\", \"\", text)\n",
    "        text = re.sub(r\"#\\w+\", \"\", text)\n",
    "        text = text.translate(str.maketrans(\"\", \"\", string.punctuation))\n",
    "        return text\n",
    "    return \"\"\n",
    "\n",
    "df['text'] = df['text'].astype(str).apply(preprocess)\n",
    "\n",
    "# Features and target\n",
    "X = df['text']\n",
    "y = df['sentiment']\n",
    "\n",
    "# Split into training and testing sets\n",
    "X_train, X_test, y_train, y_test = train_test_split(\n",
    "    X, y, test_size=0.2, random_state=42\n",
    ")\n",
    "\n",
    "# Convert text to TF-IDF features\n",
    "vectorizer = TfidfVectorizer(stop_words='english', max_features=5000)\n",
    "X_train_vec = vectorizer.fit_transform(X_train)\n",
    "X_test_vec = vectorizer.transform(X_test)\n",
    "\n",
    "# Train a Logistic Regression model\n",
    "model = LogisticRegression()\n",
    "model.fit(X_train_vec, y_train)\n",
    "\n",
    "# Predict and evaluate\n",
    "y_pred = model.predict(X_test_vec)\n",
    "print(\"Accuracy:\", accuracy_score(y_test, y_pred))\n",
    "print(\"\\nClassification Report:\\n\", classification_report(y_test, y_pred))"
   ]
  },
  {
   "cell_type": "code",
   "execution_count": 14,
   "id": "d0c8eb9c-cec5-497c-a62d-b703001f7572",
   "metadata": {},
   "outputs": [
    {
     "name": "stdin",
     "output_type": "stream",
     "text": [
      "Enter your text for sentiment analysis:  horrible experience, would never order again\n"
     ]
    },
    {
     "name": "stdout",
     "output_type": "stream",
     "text": [
      "Sentiment for custom text: neutral\n"
     ]
    }
   ],
   "source": [
    "import pandas as pd\n",
    "from sklearn.model_selection import train_test_split\n",
    "from sklearn.feature_extraction.text import CountVectorizer\n",
    "from sklearn.naive_bayes import MultinomialNB\n",
    "from sklearn.pipeline import make_pipeline\n",
    "\n",
    "# Loading of dataset\n",
    "df = pd.read_csv(r\"D:\\Python\\SentimentAnalysisProject\\sentiment_analysis.csv\")\n",
    "\n",
    "# Check and clean the data\n",
    "df = df[['text', 'sentiment']].dropna()  # Use only relevant columns\n",
    "df['sentiment'] = df['sentiment'].str.lower().str.strip()  # Ensure consistency\n",
    "\n",
    "# Train/test split\n",
    "X_train, X_test, y_train, y_test = train_test_split(df['text'], df['sentiment'], test_size=0.2, random_state=42)\n",
    "\n",
    "# Build a pipeline: Vectorizer + Classifier\n",
    "model = make_pipeline(CountVectorizer(), MultinomialNB())\n",
    "\n",
    "# Training the model\n",
    "model.fit(X_train, y_train)\n",
    "\n",
    "# Prediction of a custom text\n",
    "custom_text = input(\"Enter your text for sentiment analysis: \")\n",
    "prediction = model.predict([custom_text])[0]\n",
    "\n",
    "print(f\"Sentiment for custom text: {prediction}\")\n"
   ]
  },
  {
   "cell_type": "code",
   "execution_count": null,
   "id": "400bd194-c110-4b97-b5a1-72cc9fa2745b",
   "metadata": {},
   "outputs": [],
   "source": []
  }
 ],
 "metadata": {
  "kernelspec": {
   "display_name": "Python 3 (ipykernel)",
   "language": "python",
   "name": "python3"
  },
  "language_info": {
   "codemirror_mode": {
    "name": "ipython",
    "version": 3
   },
   "file_extension": ".py",
   "mimetype": "text/x-python",
   "name": "python",
   "nbconvert_exporter": "python",
   "pygments_lexer": "ipython3",
   "version": "3.12.7"
  }
 },
 "nbformat": 4,
 "nbformat_minor": 5
}
